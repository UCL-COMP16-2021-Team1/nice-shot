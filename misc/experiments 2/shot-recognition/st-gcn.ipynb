{
 "cells": [
  {
   "cell_type": "markdown",
   "metadata": {},
   "source": [
    "# 3D Tennis Shot Recognition through Spatial-Temporal Graph Convolutional Networks\n",
    "\n",
    "Using the method described in [Learning Three Dimensional Tennis Shots UsingGraph Convolutional Networks](https://www.mdpi.com/1424-8220/20/21/6094) by M. Skublewska-Paszkowska, P. Powroznikand, E. Lukasi (2020).\n",
    "\n",
    "The paper mentions recording both the player and the racket to identify shots. It tested putting data into the ST-GCN with and without fuzzying of data, where fuzzying returned more accurate results.\n",
    "The input used is from the 3D skeleton videos from the [THETIS](http://thetis.image.ece.ntua.gr)(THree dimEnsional TennIs Shots human action dataset).\n",
    "\n",
    "The ST-GCN is implemented with the [Spektral](https://graphneural.network/getting-started/) library."
   ]
  },
  {
   "cell_type": "markdown",
   "metadata": {},
   "source": [
    "Loading the dataset into graphs."
   ]
  },
  {
   "cell_type": "code",
   "execution_count": 11,
   "metadata": {},
   "outputs": [
    {
     "name": "stderr",
     "output_type": "stream",
     "text": [
      "/usr/local/lib/python3.9/site-packages/spektral/data/dataset.py:120: UserWarning: The graphs in this dataset have no adjacency matrix. Is this intentional?\n",
      "  warnings.warn(\n"
     ]
    }
   ],
   "source": [
    "from spektral import data as spkdata\n",
    "from os import listdir\n",
    "from os.path import isdir, join\n",
    "from numpy import load\n",
    "\n",
    "\n",
    "class JointDataset(spkdata.Dataset):\n",
    "\n",
    "    def download(self) -> None:\n",
    "        pass\n",
    "\n",
    "    def read_data(self, read_dir: str) -> list:\n",
    "        data = load(read_dir)\n",
    "        return spkdata.Graph(\n",
    "                HEAD = data['HEAD'], \n",
    "                LEFT_ELBOW = data['LEFT_ELBOW'], \n",
    "                LEFT_FOOT = data['LEFT_FOOT'],\n",
    "                LEFT_HAND = data['LEFT_HAND'], \n",
    "                LEFT_HIP = data['LEFT_HIP'], \n",
    "                LEFT_KNEE = data['LEFT_KNEE'],\n",
    "                LEFT_SHOULDER = data['LEFT_SHOULDER'], \n",
    "                NECK = data['NECK'], \n",
    "                RIGHT_ELBOW = data['RIGHT_ELBOW'],\n",
    "                RIGHT_FOOT = data['RIGHT_FOOT'], \n",
    "                RIGHT_HAND = data['RIGHT_HAND'], \n",
    "                RIGHT_HIP = data['RIGHT_HIP'],\n",
    "                RIGHT_KNEE = data['RIGHT_KNEE'], \n",
    "                RIGHT_SHOULDER = data['RIGHT_SHOULDER'], \n",
    "                TORSO = data['TORSO']\n",
    "            )\n",
    "\n",
    "    def read(self) -> list:\n",
    "        \"\"\"Reads all of the .npz files and loads them into memory\"\"\"\n",
    "        output: list = []\n",
    "        out = './data/skeleton_npz'\n",
    "        expertise_levels = ['ONI_AMATEURS', 'ONI_EXPERTS']\n",
    "        for read_dir in [join(out, _) for _ in expertise_levels]:\n",
    "            for shot in [_ for _ in listdir(read_dir) if isdir(join(read_dir, _))]:\n",
    "                shot_dir: str = join(read_dir, shot)\n",
    "                for shot_file in [_ for _ in listdir(shot_dir)]:\n",
    "                    output.append(self.read_data(join(shot_dir, shot_file)))            \n",
    "        return output\n",
    "\n",
    "\n",
    "dataset = JointDataset() # for some reason spektral gives me a warning about the graphs not having an adjacency matrix, which I don't understand :/"
   ]
  }
 ],
 "metadata": {
  "interpreter": {
   "hash": "aee8b7b246df8f9039afb4144a1f6fd8d2ca17a180786b69acc140d282b71a49"
  },
  "kernelspec": {
   "display_name": "Python 3.9.6 64-bit",
   "language": "python",
   "name": "python3"
  },
  "language_info": {
   "codemirror_mode": {
    "name": "ipython",
    "version": 3
   },
   "file_extension": ".py",
   "mimetype": "text/x-python",
   "name": "python",
   "nbconvert_exporter": "python",
   "pygments_lexer": "ipython3",
   "version": "3.9.6"
  },
  "orig_nbformat": 4
 },
 "nbformat": 4,
 "nbformat_minor": 2
}
