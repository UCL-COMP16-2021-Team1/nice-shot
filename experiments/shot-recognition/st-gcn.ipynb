{
 "cells": [
  {
   "cell_type": "markdown",
   "metadata": {},
   "source": [
    "# Spatial-Temporal Graph Convolutional Networks - Experiments \n",
    "\n",
    "Paper: Learning Three Dimensional Tennis Shots Using Graph Convolutional Networks\n",
    "Technique tested: Spatial-Temporal Graph Convolutional (/Neural) Networks (ST-GCN)\n",
    "\n",
    "## Paper summary\n",
    "The paper mentions recording both the player and the racket to identify shots. It tested putting data into the ST-GCN with and without fuzzying of data, where fuzzying returned more accurate results.\n",
    "\n",
    "### Important pages:\n",
    "- Description of Input: [2.2. Spatial Temporal Graph]\n",
    "- Description of Methodology [2.3. Recognition of Tennis Shots (page 5/12)]"
   ]
  },
  {
   "cell_type": "markdown",
   "metadata": {},
   "source": [
    "## Input\n",
    "Graph G = (V, E)  \n",
    "N -> node for each joint and their changes in their position over time.\n",
    "V -> node set, all joints in a skeleton\n",
    "E -> set of edges"
   ]
  }
 ],
 "metadata": {
  "language_info": {
   "name": "python"
  },
  "orig_nbformat": 4
 },
 "nbformat": 4,
 "nbformat_minor": 2
}
