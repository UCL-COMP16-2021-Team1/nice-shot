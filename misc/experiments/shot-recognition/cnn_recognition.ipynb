{
 "cells": [
  {
   "cell_type": "markdown",
   "metadata": {},
   "source": [
    "### CNN-based 3D Skeleton Tennis Shot Recognition\n",
    "\n",
    "Based on method from paper ['Skeleton-based Action Recognition with Convolutional Neural Networks'](https://arxiv.org/abs/1704.07595) by Li et al. (2017).\n",
    "\n",
    "We use the 3D skeletal animation data from the ['THETIS'](http://thetis.image.ece.ntua.gr/) dataset for training. Each animation is represented as a `T x N` 3-channel image where `T` is the number of frames of the animation, `N` is the number of skeletal joints, and the 3 colour channels represent the `x, y, z` coordinates of the joints."
   ]
  },
  {
   "cell_type": "markdown",
   "metadata": {},
   "source": [
    "Load the skeleton images training data."
   ]
  },
  {
   "cell_type": "code",
   "execution_count": 1,
   "metadata": {},
   "outputs": [
    {
     "name": "stdout",
     "output_type": "stream",
     "text": [
      "Found 1974 files belonging to 4 classes.\n",
      "Using 1580 files for training.\n",
      "Found 1974 files belonging to 4 classes.\n",
      "Using 394 files for validation.\n",
      "['backhand', 'forehand', 'service', 'smash']\n"
     ]
    }
   ],
   "source": [
    "import tensorflow as tf\n",
    "\n",
    "skeleton_dir = \"data/skeleton_images\"\n",
    "\n",
    "img_height = 100\n",
    "img_width = 15\n",
    "batch_size = 32\n",
    "\n",
    "train_ds = tf.keras.utils.image_dataset_from_directory(\n",
    "  skeleton_dir,\n",
    "  validation_split=0.2,\n",
    "  subset=\"training\",\n",
    "  seed=123,\n",
    "  image_size=(img_height, img_width),\n",
    "  batch_size=batch_size\n",
    ")\n",
    "\n",
    "val_ds = tf.keras.utils.image_dataset_from_directory(\n",
    "  skeleton_dir,\n",
    "  validation_split=0.2,\n",
    "  subset=\"validation\",\n",
    "  seed=123,\n",
    "  image_size=(img_height, img_width),\n",
    "  batch_size=batch_size\n",
    ")\n",
    "\n",
    "class_names = train_ds.class_names\n",
    "num_classes = len(class_names)\n",
    "print(class_names)"
   ]
  },
  {
   "cell_type": "markdown",
   "metadata": {},
   "source": [
    "Create the CNN model."
   ]
  },
  {
   "cell_type": "code",
   "execution_count": 2,
   "metadata": {},
   "outputs": [],
   "source": [
    "from tensorflow.keras import layers\n",
    "from tensorflow.keras.models import Sequential\n",
    "\n",
    "model = Sequential([\n",
    "  layers.Rescaling(1./127.5, offset=-1, input_shape=(img_height, img_width, 3)),\n",
    "  layers.Conv2D(16, 3, padding='same', activation='relu'),\n",
    "  layers.MaxPooling2D(),\n",
    "  layers.Conv2D(32, 3, padding='same', activation='relu'),\n",
    "  layers.MaxPooling2D(),\n",
    "  layers.Conv2D(64, 3, padding='same', activation='relu'),\n",
    "  layers.MaxPooling2D(),\n",
    "  layers.Flatten(),\n",
    "  layers.Dense(128, activation='relu'),\n",
    "  layers.Dense(num_classes)\n",
    "])"
   ]
  },
  {
   "cell_type": "markdown",
   "metadata": {},
   "source": [
    "Compile and train the model."
   ]
  },
  {
   "cell_type": "code",
   "execution_count": 3,
   "metadata": {},
   "outputs": [
    {
     "name": "stdout",
     "output_type": "stream",
     "text": [
      "Epoch 1/50\n",
      "50/50 [==============================] - 2s 33ms/step - loss: 0.8904 - accuracy: 0.6709 - val_loss: 0.6530 - val_accuracy: 0.7411\n",
      "Epoch 2/50\n",
      "50/50 [==============================] - 1s 17ms/step - loss: 0.5064 - accuracy: 0.8139 - val_loss: 0.4399 - val_accuracy: 0.8325\n",
      "Epoch 3/50\n",
      "50/50 [==============================] - 1s 17ms/step - loss: 0.3897 - accuracy: 0.8411 - val_loss: 0.3800 - val_accuracy: 0.8553\n",
      "Epoch 4/50\n",
      "50/50 [==============================] - 1s 16ms/step - loss: 0.3287 - accuracy: 0.8665 - val_loss: 0.3415 - val_accuracy: 0.8503\n",
      "Epoch 5/50\n",
      "50/50 [==============================] - 1s 16ms/step - loss: 0.2758 - accuracy: 0.8842 - val_loss: 0.2899 - val_accuracy: 0.8909\n",
      "Epoch 6/50\n",
      "50/50 [==============================] - 1s 16ms/step - loss: 0.2267 - accuracy: 0.9063 - val_loss: 0.2445 - val_accuracy: 0.9010\n",
      "Epoch 7/50\n",
      "50/50 [==============================] - 1s 16ms/step - loss: 0.2205 - accuracy: 0.9101 - val_loss: 0.2331 - val_accuracy: 0.9010\n",
      "Epoch 8/50\n",
      "50/50 [==============================] - 1s 16ms/step - loss: 0.1741 - accuracy: 0.9253 - val_loss: 0.2216 - val_accuracy: 0.9315\n",
      "Epoch 9/50\n",
      "50/50 [==============================] - 1s 17ms/step - loss: 0.1610 - accuracy: 0.9354 - val_loss: 0.2264 - val_accuracy: 0.9162\n",
      "Epoch 10/50\n",
      "50/50 [==============================] - 1s 17ms/step - loss: 0.1382 - accuracy: 0.9418 - val_loss: 0.2175 - val_accuracy: 0.9086\n",
      "Epoch 11/50\n",
      "50/50 [==============================] - 1s 17ms/step - loss: 0.1156 - accuracy: 0.9551 - val_loss: 0.2097 - val_accuracy: 0.9188\n",
      "Epoch 12/50\n",
      "50/50 [==============================] - 1s 17ms/step - loss: 0.1087 - accuracy: 0.9576 - val_loss: 0.3227 - val_accuracy: 0.8832\n",
      "Epoch 13/50\n",
      "50/50 [==============================] - 1s 16ms/step - loss: 0.1212 - accuracy: 0.9506 - val_loss: 0.2002 - val_accuracy: 0.9315\n",
      "Epoch 14/50\n",
      "50/50 [==============================] - 1s 16ms/step - loss: 0.0855 - accuracy: 0.9652 - val_loss: 0.2154 - val_accuracy: 0.9315\n",
      "Epoch 15/50\n",
      "50/50 [==============================] - 1s 16ms/step - loss: 0.0654 - accuracy: 0.9766 - val_loss: 0.1980 - val_accuracy: 0.9315\n",
      "Epoch 16/50\n",
      "50/50 [==============================] - 1s 16ms/step - loss: 0.0788 - accuracy: 0.9646 - val_loss: 0.2156 - val_accuracy: 0.9391\n",
      "Epoch 17/50\n",
      "50/50 [==============================] - 1s 16ms/step - loss: 0.0561 - accuracy: 0.9785 - val_loss: 0.1889 - val_accuracy: 0.9492\n",
      "Epoch 18/50\n",
      "50/50 [==============================] - 1s 16ms/step - loss: 0.0391 - accuracy: 0.9892 - val_loss: 0.2013 - val_accuracy: 0.9340\n",
      "Epoch 19/50\n",
      "50/50 [==============================] - 1s 16ms/step - loss: 0.0330 - accuracy: 0.9905 - val_loss: 0.1822 - val_accuracy: 0.9391\n",
      "Epoch 20/50\n",
      "50/50 [==============================] - 1s 17ms/step - loss: 0.0313 - accuracy: 0.9905 - val_loss: 0.1767 - val_accuracy: 0.9442\n",
      "Epoch 21/50\n",
      "50/50 [==============================] - 1s 18ms/step - loss: 0.0227 - accuracy: 0.9930 - val_loss: 0.1860 - val_accuracy: 0.9467\n",
      "Epoch 22/50\n",
      "50/50 [==============================] - 1s 18ms/step - loss: 0.0191 - accuracy: 0.9956 - val_loss: 0.2282 - val_accuracy: 0.9365\n",
      "Epoch 23/50\n",
      "50/50 [==============================] - 1s 17ms/step - loss: 0.0195 - accuracy: 0.9943 - val_loss: 0.2285 - val_accuracy: 0.9442\n",
      "Epoch 24/50\n",
      "50/50 [==============================] - 1s 17ms/step - loss: 0.0134 - accuracy: 0.9987 - val_loss: 0.2160 - val_accuracy: 0.9492\n",
      "Epoch 25/50\n",
      "50/50 [==============================] - 1s 18ms/step - loss: 0.0103 - accuracy: 0.9987 - val_loss: 0.2038 - val_accuracy: 0.9492\n",
      "Epoch 26/50\n",
      "50/50 [==============================] - 1s 17ms/step - loss: 0.0079 - accuracy: 0.9981 - val_loss: 0.2276 - val_accuracy: 0.9442\n",
      "Epoch 27/50\n",
      "50/50 [==============================] - 1s 18ms/step - loss: 0.0108 - accuracy: 0.9975 - val_loss: 0.1995 - val_accuracy: 0.9518\n",
      "Epoch 28/50\n",
      "50/50 [==============================] - 1s 17ms/step - loss: 0.0248 - accuracy: 0.9924 - val_loss: 0.4223 - val_accuracy: 0.9086\n",
      "Epoch 29/50\n",
      "50/50 [==============================] - 1s 17ms/step - loss: 0.0589 - accuracy: 0.9816 - val_loss: 0.2122 - val_accuracy: 0.9442\n",
      "Epoch 30/50\n",
      "50/50 [==============================] - 1s 18ms/step - loss: 0.0405 - accuracy: 0.9880 - val_loss: 0.2701 - val_accuracy: 0.9391\n",
      "Epoch 31/50\n",
      "50/50 [==============================] - 1s 20ms/step - loss: 0.0431 - accuracy: 0.9867 - val_loss: 0.1821 - val_accuracy: 0.9467\n",
      "Epoch 32/50\n",
      "50/50 [==============================] - 1s 19ms/step - loss: 0.0160 - accuracy: 0.9956 - val_loss: 0.2012 - val_accuracy: 0.9492\n",
      "Epoch 33/50\n",
      "50/50 [==============================] - 1s 19ms/step - loss: 0.0075 - accuracy: 0.9981 - val_loss: 0.2244 - val_accuracy: 0.9416\n",
      "Epoch 34/50\n",
      "50/50 [==============================] - 1s 18ms/step - loss: 0.0070 - accuracy: 0.9981 - val_loss: 0.2357 - val_accuracy: 0.9442\n",
      "Epoch 35/50\n",
      "50/50 [==============================] - 1s 19ms/step - loss: 0.0069 - accuracy: 0.9975 - val_loss: 0.2571 - val_accuracy: 0.9442\n",
      "Epoch 36/50\n",
      "50/50 [==============================] - 1s 17ms/step - loss: 0.0017 - accuracy: 1.0000 - val_loss: 0.2444 - val_accuracy: 0.9492\n",
      "Epoch 37/50\n",
      "50/50 [==============================] - 1s 16ms/step - loss: 0.0012 - accuracy: 1.0000 - val_loss: 0.2419 - val_accuracy: 0.9543\n",
      "Epoch 38/50\n",
      "50/50 [==============================] - 1s 16ms/step - loss: 8.3709e-04 - accuracy: 1.0000 - val_loss: 0.2464 - val_accuracy: 0.9543\n",
      "Epoch 39/50\n",
      "50/50 [==============================] - 1s 16ms/step - loss: 7.6382e-04 - accuracy: 1.0000 - val_loss: 0.2512 - val_accuracy: 0.9543\n",
      "Epoch 40/50\n",
      "50/50 [==============================] - 1s 16ms/step - loss: 6.9352e-04 - accuracy: 1.0000 - val_loss: 0.2577 - val_accuracy: 0.9518\n",
      "Epoch 41/50\n",
      "50/50 [==============================] - 1s 17ms/step - loss: 5.9357e-04 - accuracy: 1.0000 - val_loss: 0.2617 - val_accuracy: 0.9543\n",
      "Epoch 42/50\n",
      "50/50 [==============================] - 1s 17ms/step - loss: 5.4682e-04 - accuracy: 1.0000 - val_loss: 0.2642 - val_accuracy: 0.9543\n",
      "Epoch 43/50\n",
      "50/50 [==============================] - 1s 17ms/step - loss: 5.1152e-04 - accuracy: 1.0000 - val_loss: 0.2668 - val_accuracy: 0.9518\n",
      "Epoch 44/50\n",
      "50/50 [==============================] - 1s 16ms/step - loss: 4.3609e-04 - accuracy: 1.0000 - val_loss: 0.2684 - val_accuracy: 0.9518\n",
      "Epoch 45/50\n",
      "50/50 [==============================] - 1s 17ms/step - loss: 4.3884e-04 - accuracy: 1.0000 - val_loss: 0.2720 - val_accuracy: 0.9518\n",
      "Epoch 46/50\n",
      "50/50 [==============================] - 1s 17ms/step - loss: 3.8807e-04 - accuracy: 1.0000 - val_loss: 0.2775 - val_accuracy: 0.9518\n",
      "Epoch 47/50\n",
      "50/50 [==============================] - 1s 17ms/step - loss: 3.6622e-04 - accuracy: 1.0000 - val_loss: 0.2784 - val_accuracy: 0.9518\n",
      "Epoch 48/50\n",
      "50/50 [==============================] - 1s 16ms/step - loss: 3.4522e-04 - accuracy: 1.0000 - val_loss: 0.2821 - val_accuracy: 0.9518\n",
      "Epoch 49/50\n",
      "50/50 [==============================] - 1s 17ms/step - loss: 3.2361e-04 - accuracy: 1.0000 - val_loss: 0.2870 - val_accuracy: 0.9518\n",
      "Epoch 50/50\n",
      "50/50 [==============================] - 1s 17ms/step - loss: 3.1509e-04 - accuracy: 1.0000 - val_loss: 0.2852 - val_accuracy: 0.9518\n"
     ]
    }
   ],
   "source": [
    "model.compile(optimizer='adam',\n",
    "              loss=tf.keras.losses.SparseCategoricalCrossentropy(from_logits=True),\n",
    "              metrics=['accuracy'])\n",
    "\n",
    "model.fit(\n",
    "  train_ds,\n",
    "  validation_data=val_ds,\n",
    "  epochs=50\n",
    ")\n",
    "\n",
    "model.save('cnn_recognition_model.h5')"
   ]
  }
 ],
 "metadata": {
  "interpreter": {
   "hash": "c214f4d2c295345fdc57900708451324837b7865065ae46ceb283a6c9824d5d4"
  },
  "kernelspec": {
   "display_name": "Python 3",
   "language": "python",
   "name": "python3"
  },
  "language_info": {
   "codemirror_mode": {
    "name": "ipython",
    "version": 3
   },
   "file_extension": ".py",
   "mimetype": "text/x-python",
   "name": "python",
   "nbconvert_exporter": "python",
   "pygments_lexer": "ipython3",
   "version": "3.8.8"
  },
  "orig_nbformat": 4
 },
 "nbformat": 4,
 "nbformat_minor": 2
}
