{
 "cells": [
  {
   "cell_type": "markdown",
   "metadata": {},
   "source": [
    "### CNN-based 3D Skeleton Tennis Shot Recognition\n",
    "\n",
    "Based on method from paper ['Skeleton-based Action Recognition with Convolutional Neural Networks'](https://arxiv.org/abs/1704.07595) by Li et al. (2017).\n",
    "\n",
    "We use the 3D skeletal animation data from the ['THETIS'](http://thetis.image.ece.ntua.gr/) dataset for training. Each animation is represented as a `T x N` 3-channel image where `T` is the number of frames of the animation, `N` is the number of skeletal joints, and the 3 colour channels represent `x, y, z` coordinates of the joints."
   ]
  },
  {
   "cell_type": "markdown",
   "metadata": {},
   "source": [
    "Load the skeleton images training data."
   ]
  },
  {
   "cell_type": "code",
   "execution_count": 25,
   "metadata": {},
   "outputs": [
    {
     "name": "stdout",
     "output_type": "stream",
     "text": [
      "Found 621 files belonging to 24 classes.\n",
      "Using 497 files for training.\n",
      "Found 621 files belonging to 24 classes.\n",
      "Using 124 files for validation.\n"
     ]
    }
   ],
   "source": [
    "import tensorflow as tf\n",
    "\n",
    "skeleton_dir = \"data/skeleton_images\"\n",
    "\n",
    "img_height = 250\n",
    "img_width = 15\n",
    "batch_size = 32\n",
    "\n",
    "skeleton_train_ds = tf.keras.utils.image_dataset_from_directory(\n",
    "  skeleton_dir,\n",
    "  validation_split=0.2,\n",
    "  subset=\"training\",\n",
    "  seed=123,\n",
    "  image_size=(img_height, img_width),\n",
    "  batch_size=batch_size)\n",
    "\n",
    "skeleton_val_ds = tf.keras.utils.image_dataset_from_directory(\n",
    "  skeleton_dir,\n",
    "  validation_split=0.2,\n",
    "  subset=\"validation\",\n",
    "  seed=123,\n",
    "  image_size=(img_height, img_width),\n",
    "  batch_size=batch_size)"
   ]
  },
  {
   "cell_type": "markdown",
   "metadata": {},
   "source": [
    "Create the CNN model."
   ]
  },
  {
   "cell_type": "code",
   "execution_count": 26,
   "metadata": {},
   "outputs": [],
   "source": [
    "from tensorflow.keras import layers, models\n",
    "\n",
    "model = models.Sequential()\n",
    "model.add(layers.Rescaling(1./127.5, offset=-1))\n",
    "model.add(layers.Conv2D(32, (3,3), activation='relu', input_shape=(250,15,3)))\n",
    "model.add(layers.MaxPooling2D((2,1)))\n",
    "model.add(layers.Conv2D(64, (3,3), activation='relu'))\n",
    "model.add(layers.MaxPooling2D((2,1)))\n",
    "model.add(layers.Conv2D(64, (3,3), activation='relu'))\n",
    "\n",
    "model.add(layers.Flatten())\n",
    "model.add(layers.Dense(64, activation='relu'))\n",
    "model.add(layers.Dense(24, activation='softmax'))\n"
   ]
  },
  {
   "cell_type": "markdown",
   "metadata": {},
   "source": [
    "Compile and train the model."
   ]
  },
  {
   "cell_type": "code",
   "execution_count": 27,
   "metadata": {},
   "outputs": [
    {
     "name": "stdout",
     "output_type": "stream",
     "text": [
      "Epoch 1/100\n",
      "16/16 [==============================] - 2s 125ms/step - loss: 3.2191 - accuracy: 0.0362 - val_loss: 3.1727 - val_accuracy: 0.0726\n",
      "Epoch 2/100\n",
      "16/16 [==============================] - 2s 116ms/step - loss: 3.1533 - accuracy: 0.0604 - val_loss: 3.1745 - val_accuracy: 0.0403\n",
      "Epoch 3/100\n",
      "16/16 [==============================] - 2s 110ms/step - loss: 3.0734 - accuracy: 0.1087 - val_loss: 3.1767 - val_accuracy: 0.0484\n",
      "Epoch 4/100\n",
      "16/16 [==============================] - 2s 110ms/step - loss: 2.9152 - accuracy: 0.1489 - val_loss: 3.2004 - val_accuracy: 0.0645\n",
      "Epoch 5/100\n",
      "16/16 [==============================] - 2s 108ms/step - loss: 2.6641 - accuracy: 0.2113 - val_loss: 3.2202 - val_accuracy: 0.1290\n",
      "Epoch 6/100\n",
      "16/16 [==============================] - 2s 109ms/step - loss: 2.3734 - accuracy: 0.2877 - val_loss: 3.1899 - val_accuracy: 0.1290\n",
      "Epoch 7/100\n",
      "16/16 [==============================] - 2s 107ms/step - loss: 2.0319 - accuracy: 0.3883 - val_loss: 3.2623 - val_accuracy: 0.1774\n",
      "Epoch 8/100\n",
      "16/16 [==============================] - 2s 108ms/step - loss: 1.7407 - accuracy: 0.4769 - val_loss: 3.1448 - val_accuracy: 0.2177\n",
      "Epoch 9/100\n",
      "16/16 [==============================] - 2s 108ms/step - loss: 1.4286 - accuracy: 0.5795 - val_loss: 3.2548 - val_accuracy: 0.2097\n",
      "Epoch 10/100\n",
      "16/16 [==============================] - 2s 107ms/step - loss: 1.1137 - accuracy: 0.6720 - val_loss: 3.4541 - val_accuracy: 0.1694\n",
      "Epoch 11/100\n",
      "16/16 [==============================] - 2s 110ms/step - loss: 0.8675 - accuracy: 0.7646 - val_loss: 3.8411 - val_accuracy: 0.2016\n",
      "Epoch 12/100\n",
      "16/16 [==============================] - 2s 109ms/step - loss: 0.7425 - accuracy: 0.7867 - val_loss: 3.3310 - val_accuracy: 0.2339\n",
      "Epoch 13/100\n",
      "16/16 [==============================] - 2s 109ms/step - loss: 0.4686 - accuracy: 0.8712 - val_loss: 4.0146 - val_accuracy: 0.2258\n",
      "Epoch 14/100\n",
      "16/16 [==============================] - 2s 109ms/step - loss: 0.3885 - accuracy: 0.8994 - val_loss: 3.8873 - val_accuracy: 0.2258\n",
      "Epoch 15/100\n",
      "16/16 [==============================] - 2s 110ms/step - loss: 0.3035 - accuracy: 0.9356 - val_loss: 4.2837 - val_accuracy: 0.2097\n",
      "Epoch 16/100\n",
      "16/16 [==============================] - 2s 110ms/step - loss: 0.2014 - accuracy: 0.9517 - val_loss: 4.2851 - val_accuracy: 0.2500\n",
      "Epoch 17/100\n",
      "16/16 [==============================] - 2s 109ms/step - loss: 0.1438 - accuracy: 0.9779 - val_loss: 4.7573 - val_accuracy: 0.2177\n",
      "Epoch 18/100\n",
      "16/16 [==============================] - 2s 110ms/step - loss: 0.0846 - accuracy: 0.9899 - val_loss: 5.0041 - val_accuracy: 0.2500\n",
      "Epoch 19/100\n",
      "16/16 [==============================] - 2s 110ms/step - loss: 0.0604 - accuracy: 0.9980 - val_loss: 4.8989 - val_accuracy: 0.2500\n",
      "Epoch 20/100\n",
      "16/16 [==============================] - 2s 108ms/step - loss: 0.0368 - accuracy: 0.9960 - val_loss: 5.2206 - val_accuracy: 0.2500\n",
      "Epoch 21/100\n",
      "16/16 [==============================] - 2s 107ms/step - loss: 0.0293 - accuracy: 0.9980 - val_loss: 5.3213 - val_accuracy: 0.2500\n",
      "Epoch 22/100\n",
      "16/16 [==============================] - 2s 110ms/step - loss: 0.0246 - accuracy: 1.0000 - val_loss: 5.4090 - val_accuracy: 0.2581\n",
      "Epoch 23/100\n",
      "16/16 [==============================] - 2s 110ms/step - loss: 0.0207 - accuracy: 0.9980 - val_loss: 5.6514 - val_accuracy: 0.2581\n",
      "Epoch 24/100\n",
      "16/16 [==============================] - 2s 111ms/step - loss: 0.0145 - accuracy: 0.9980 - val_loss: 5.6223 - val_accuracy: 0.2661\n",
      "Epoch 25/100\n",
      "16/16 [==============================] - 2s 111ms/step - loss: 0.0084 - accuracy: 1.0000 - val_loss: 5.8170 - val_accuracy: 0.2581\n",
      "Epoch 26/100\n",
      "16/16 [==============================] - 2s 110ms/step - loss: 0.0071 - accuracy: 1.0000 - val_loss: 5.8849 - val_accuracy: 0.2581\n",
      "Epoch 27/100\n",
      "16/16 [==============================] - 2s 110ms/step - loss: 0.0058 - accuracy: 1.0000 - val_loss: 5.9610 - val_accuracy: 0.2661\n",
      "Epoch 28/100\n",
      "16/16 [==============================] - 2s 110ms/step - loss: 0.0052 - accuracy: 1.0000 - val_loss: 6.0437 - val_accuracy: 0.2661\n",
      "Epoch 29/100\n",
      "16/16 [==============================] - 2s 112ms/step - loss: 0.0046 - accuracy: 1.0000 - val_loss: 6.0806 - val_accuracy: 0.2661\n",
      "Epoch 30/100\n",
      "16/16 [==============================] - 2s 109ms/step - loss: 0.0043 - accuracy: 1.0000 - val_loss: 6.1306 - val_accuracy: 0.2742\n",
      "Epoch 31/100\n",
      "16/16 [==============================] - 2s 110ms/step - loss: 0.0039 - accuracy: 1.0000 - val_loss: 6.2188 - val_accuracy: 0.2661\n",
      "Epoch 32/100\n",
      "16/16 [==============================] - 2s 110ms/step - loss: 0.0036 - accuracy: 1.0000 - val_loss: 6.2515 - val_accuracy: 0.2742\n",
      "Epoch 33/100\n",
      "16/16 [==============================] - 2s 111ms/step - loss: 0.0033 - accuracy: 1.0000 - val_loss: 6.3106 - val_accuracy: 0.2661\n",
      "Epoch 34/100\n",
      "16/16 [==============================] - 2s 111ms/step - loss: 0.0031 - accuracy: 1.0000 - val_loss: 6.3455 - val_accuracy: 0.2661\n",
      "Epoch 35/100\n",
      "16/16 [==============================] - 2s 110ms/step - loss: 0.0029 - accuracy: 1.0000 - val_loss: 6.3862 - val_accuracy: 0.2742\n",
      "Epoch 36/100\n",
      "16/16 [==============================] - 2s 110ms/step - loss: 0.0027 - accuracy: 1.0000 - val_loss: 6.4342 - val_accuracy: 0.2661\n",
      "Epoch 37/100\n",
      "16/16 [==============================] - 2s 113ms/step - loss: 0.0026 - accuracy: 1.0000 - val_loss: 6.4802 - val_accuracy: 0.2742\n",
      "Epoch 38/100\n",
      "16/16 [==============================] - 2s 110ms/step - loss: 0.0024 - accuracy: 1.0000 - val_loss: 6.5151 - val_accuracy: 0.2661\n",
      "Epoch 39/100\n",
      "16/16 [==============================] - 2s 110ms/step - loss: 0.0023 - accuracy: 1.0000 - val_loss: 6.5461 - val_accuracy: 0.2742\n",
      "Epoch 40/100\n",
      "16/16 [==============================] - 2s 108ms/step - loss: 0.0022 - accuracy: 1.0000 - val_loss: 6.5977 - val_accuracy: 0.2742\n",
      "Epoch 41/100\n",
      "16/16 [==============================] - 2s 110ms/step - loss: 0.0020 - accuracy: 1.0000 - val_loss: 6.6300 - val_accuracy: 0.2661\n",
      "Epoch 42/100\n",
      " 6/16 [==========>...................] - ETA: 0s - loss: 0.0019 - accuracy: 1.0000"
     ]
    },
    {
     "ename": "KeyboardInterrupt",
     "evalue": "",
     "output_type": "error",
     "traceback": [
      "\u001b[1;31m---------------------------------------------------------------------------\u001b[0m",
      "\u001b[1;31mKeyboardInterrupt\u001b[0m                         Traceback (most recent call last)",
      "\u001b[1;32m<ipython-input-27-d027adaf5f4c>\u001b[0m in \u001b[0;36m<module>\u001b[1;34m\u001b[0m\n\u001b[0;32m      3\u001b[0m               metrics=['accuracy'])\n\u001b[0;32m      4\u001b[0m \u001b[1;33m\u001b[0m\u001b[0m\n\u001b[1;32m----> 5\u001b[1;33m model.fit(\n\u001b[0m\u001b[0;32m      6\u001b[0m   \u001b[0mskeleton_train_ds\u001b[0m\u001b[1;33m,\u001b[0m\u001b[1;33m\u001b[0m\u001b[1;33m\u001b[0m\u001b[0m\n\u001b[0;32m      7\u001b[0m   \u001b[0mvalidation_data\u001b[0m\u001b[1;33m=\u001b[0m\u001b[0mskeleton_val_ds\u001b[0m\u001b[1;33m,\u001b[0m\u001b[1;33m\u001b[0m\u001b[1;33m\u001b[0m\u001b[0m\n",
      "\u001b[1;32m~\\anaconda3\\lib\\site-packages\\keras\\utils\\traceback_utils.py\u001b[0m in \u001b[0;36merror_handler\u001b[1;34m(*args, **kwargs)\u001b[0m\n\u001b[0;32m     62\u001b[0m     \u001b[0mfiltered_tb\u001b[0m \u001b[1;33m=\u001b[0m \u001b[1;32mNone\u001b[0m\u001b[1;33m\u001b[0m\u001b[1;33m\u001b[0m\u001b[0m\n\u001b[0;32m     63\u001b[0m     \u001b[1;32mtry\u001b[0m\u001b[1;33m:\u001b[0m\u001b[1;33m\u001b[0m\u001b[1;33m\u001b[0m\u001b[0m\n\u001b[1;32m---> 64\u001b[1;33m       \u001b[1;32mreturn\u001b[0m \u001b[0mfn\u001b[0m\u001b[1;33m(\u001b[0m\u001b[1;33m*\u001b[0m\u001b[0margs\u001b[0m\u001b[1;33m,\u001b[0m \u001b[1;33m**\u001b[0m\u001b[0mkwargs\u001b[0m\u001b[1;33m)\u001b[0m\u001b[1;33m\u001b[0m\u001b[1;33m\u001b[0m\u001b[0m\n\u001b[0m\u001b[0;32m     65\u001b[0m     \u001b[1;32mexcept\u001b[0m \u001b[0mException\u001b[0m \u001b[1;32mas\u001b[0m \u001b[0me\u001b[0m\u001b[1;33m:\u001b[0m  \u001b[1;31m# pylint: disable=broad-except\u001b[0m\u001b[1;33m\u001b[0m\u001b[1;33m\u001b[0m\u001b[0m\n\u001b[0;32m     66\u001b[0m       \u001b[0mfiltered_tb\u001b[0m \u001b[1;33m=\u001b[0m \u001b[0m_process_traceback_frames\u001b[0m\u001b[1;33m(\u001b[0m\u001b[0me\u001b[0m\u001b[1;33m.\u001b[0m\u001b[0m__traceback__\u001b[0m\u001b[1;33m)\u001b[0m\u001b[1;33m\u001b[0m\u001b[1;33m\u001b[0m\u001b[0m\n",
      "\u001b[1;32m~\\anaconda3\\lib\\site-packages\\keras\\engine\\training.py\u001b[0m in \u001b[0;36mfit\u001b[1;34m(self, x, y, batch_size, epochs, verbose, callbacks, validation_split, validation_data, shuffle, class_weight, sample_weight, initial_epoch, steps_per_epoch, validation_steps, validation_batch_size, validation_freq, max_queue_size, workers, use_multiprocessing)\u001b[0m\n\u001b[0;32m   1214\u001b[0m                 _r=1):\n\u001b[0;32m   1215\u001b[0m               \u001b[0mcallbacks\u001b[0m\u001b[1;33m.\u001b[0m\u001b[0mon_train_batch_begin\u001b[0m\u001b[1;33m(\u001b[0m\u001b[0mstep\u001b[0m\u001b[1;33m)\u001b[0m\u001b[1;33m\u001b[0m\u001b[1;33m\u001b[0m\u001b[0m\n\u001b[1;32m-> 1216\u001b[1;33m               \u001b[0mtmp_logs\u001b[0m \u001b[1;33m=\u001b[0m \u001b[0mself\u001b[0m\u001b[1;33m.\u001b[0m\u001b[0mtrain_function\u001b[0m\u001b[1;33m(\u001b[0m\u001b[0miterator\u001b[0m\u001b[1;33m)\u001b[0m\u001b[1;33m\u001b[0m\u001b[1;33m\u001b[0m\u001b[0m\n\u001b[0m\u001b[0;32m   1217\u001b[0m               \u001b[1;32mif\u001b[0m \u001b[0mdata_handler\u001b[0m\u001b[1;33m.\u001b[0m\u001b[0mshould_sync\u001b[0m\u001b[1;33m:\u001b[0m\u001b[1;33m\u001b[0m\u001b[1;33m\u001b[0m\u001b[0m\n\u001b[0;32m   1218\u001b[0m                 \u001b[0mcontext\u001b[0m\u001b[1;33m.\u001b[0m\u001b[0masync_wait\u001b[0m\u001b[1;33m(\u001b[0m\u001b[1;33m)\u001b[0m\u001b[1;33m\u001b[0m\u001b[1;33m\u001b[0m\u001b[0m\n",
      "\u001b[1;32m~\\anaconda3\\lib\\site-packages\\tensorflow\\python\\util\\traceback_utils.py\u001b[0m in \u001b[0;36merror_handler\u001b[1;34m(*args, **kwargs)\u001b[0m\n\u001b[0;32m    148\u001b[0m     \u001b[0mfiltered_tb\u001b[0m \u001b[1;33m=\u001b[0m \u001b[1;32mNone\u001b[0m\u001b[1;33m\u001b[0m\u001b[1;33m\u001b[0m\u001b[0m\n\u001b[0;32m    149\u001b[0m     \u001b[1;32mtry\u001b[0m\u001b[1;33m:\u001b[0m\u001b[1;33m\u001b[0m\u001b[1;33m\u001b[0m\u001b[0m\n\u001b[1;32m--> 150\u001b[1;33m       \u001b[1;32mreturn\u001b[0m \u001b[0mfn\u001b[0m\u001b[1;33m(\u001b[0m\u001b[1;33m*\u001b[0m\u001b[0margs\u001b[0m\u001b[1;33m,\u001b[0m \u001b[1;33m**\u001b[0m\u001b[0mkwargs\u001b[0m\u001b[1;33m)\u001b[0m\u001b[1;33m\u001b[0m\u001b[1;33m\u001b[0m\u001b[0m\n\u001b[0m\u001b[0;32m    151\u001b[0m     \u001b[1;32mexcept\u001b[0m \u001b[0mException\u001b[0m \u001b[1;32mas\u001b[0m \u001b[0me\u001b[0m\u001b[1;33m:\u001b[0m\u001b[1;33m\u001b[0m\u001b[1;33m\u001b[0m\u001b[0m\n\u001b[0;32m    152\u001b[0m       \u001b[0mfiltered_tb\u001b[0m \u001b[1;33m=\u001b[0m \u001b[0m_process_traceback_frames\u001b[0m\u001b[1;33m(\u001b[0m\u001b[0me\u001b[0m\u001b[1;33m.\u001b[0m\u001b[0m__traceback__\u001b[0m\u001b[1;33m)\u001b[0m\u001b[1;33m\u001b[0m\u001b[1;33m\u001b[0m\u001b[0m\n",
      "\u001b[1;32m~\\anaconda3\\lib\\site-packages\\tensorflow\\python\\eager\\def_function.py\u001b[0m in \u001b[0;36m__call__\u001b[1;34m(self, *args, **kwds)\u001b[0m\n\u001b[0;32m    908\u001b[0m \u001b[1;33m\u001b[0m\u001b[0m\n\u001b[0;32m    909\u001b[0m       \u001b[1;32mwith\u001b[0m \u001b[0mOptionalXlaContext\u001b[0m\u001b[1;33m(\u001b[0m\u001b[0mself\u001b[0m\u001b[1;33m.\u001b[0m\u001b[0m_jit_compile\u001b[0m\u001b[1;33m)\u001b[0m\u001b[1;33m:\u001b[0m\u001b[1;33m\u001b[0m\u001b[1;33m\u001b[0m\u001b[0m\n\u001b[1;32m--> 910\u001b[1;33m         \u001b[0mresult\u001b[0m \u001b[1;33m=\u001b[0m \u001b[0mself\u001b[0m\u001b[1;33m.\u001b[0m\u001b[0m_call\u001b[0m\u001b[1;33m(\u001b[0m\u001b[1;33m*\u001b[0m\u001b[0margs\u001b[0m\u001b[1;33m,\u001b[0m \u001b[1;33m**\u001b[0m\u001b[0mkwds\u001b[0m\u001b[1;33m)\u001b[0m\u001b[1;33m\u001b[0m\u001b[1;33m\u001b[0m\u001b[0m\n\u001b[0m\u001b[0;32m    911\u001b[0m \u001b[1;33m\u001b[0m\u001b[0m\n\u001b[0;32m    912\u001b[0m       \u001b[0mnew_tracing_count\u001b[0m \u001b[1;33m=\u001b[0m \u001b[0mself\u001b[0m\u001b[1;33m.\u001b[0m\u001b[0mexperimental_get_tracing_count\u001b[0m\u001b[1;33m(\u001b[0m\u001b[1;33m)\u001b[0m\u001b[1;33m\u001b[0m\u001b[1;33m\u001b[0m\u001b[0m\n",
      "\u001b[1;32m~\\anaconda3\\lib\\site-packages\\tensorflow\\python\\eager\\def_function.py\u001b[0m in \u001b[0;36m_call\u001b[1;34m(self, *args, **kwds)\u001b[0m\n\u001b[0;32m    940\u001b[0m       \u001b[1;31m# In this case we have created variables on the first call, so we run the\u001b[0m\u001b[1;33m\u001b[0m\u001b[1;33m\u001b[0m\u001b[1;33m\u001b[0m\u001b[0m\n\u001b[0;32m    941\u001b[0m       \u001b[1;31m# defunned version which is guaranteed to never create variables.\u001b[0m\u001b[1;33m\u001b[0m\u001b[1;33m\u001b[0m\u001b[1;33m\u001b[0m\u001b[0m\n\u001b[1;32m--> 942\u001b[1;33m       \u001b[1;32mreturn\u001b[0m \u001b[0mself\u001b[0m\u001b[1;33m.\u001b[0m\u001b[0m_stateless_fn\u001b[0m\u001b[1;33m(\u001b[0m\u001b[1;33m*\u001b[0m\u001b[0margs\u001b[0m\u001b[1;33m,\u001b[0m \u001b[1;33m**\u001b[0m\u001b[0mkwds\u001b[0m\u001b[1;33m)\u001b[0m  \u001b[1;31m# pylint: disable=not-callable\u001b[0m\u001b[1;33m\u001b[0m\u001b[1;33m\u001b[0m\u001b[0m\n\u001b[0m\u001b[0;32m    943\u001b[0m     \u001b[1;32melif\u001b[0m \u001b[0mself\u001b[0m\u001b[1;33m.\u001b[0m\u001b[0m_stateful_fn\u001b[0m \u001b[1;32mis\u001b[0m \u001b[1;32mnot\u001b[0m \u001b[1;32mNone\u001b[0m\u001b[1;33m:\u001b[0m\u001b[1;33m\u001b[0m\u001b[1;33m\u001b[0m\u001b[0m\n\u001b[0;32m    944\u001b[0m       \u001b[1;31m# Release the lock early so that multiple threads can perform the call\u001b[0m\u001b[1;33m\u001b[0m\u001b[1;33m\u001b[0m\u001b[1;33m\u001b[0m\u001b[0m\n",
      "\u001b[1;32m~\\anaconda3\\lib\\site-packages\\tensorflow\\python\\eager\\function.py\u001b[0m in \u001b[0;36m__call__\u001b[1;34m(self, *args, **kwargs)\u001b[0m\n\u001b[0;32m   3128\u001b[0m       (graph_function,\n\u001b[0;32m   3129\u001b[0m        filtered_flat_args) = self._maybe_define_function(args, kwargs)\n\u001b[1;32m-> 3130\u001b[1;33m     return graph_function._call_flat(\n\u001b[0m\u001b[0;32m   3131\u001b[0m         filtered_flat_args, captured_inputs=graph_function.captured_inputs)  # pylint: disable=protected-access\n\u001b[0;32m   3132\u001b[0m \u001b[1;33m\u001b[0m\u001b[0m\n",
      "\u001b[1;32m~\\anaconda3\\lib\\site-packages\\tensorflow\\python\\eager\\function.py\u001b[0m in \u001b[0;36m_call_flat\u001b[1;34m(self, args, captured_inputs, cancellation_manager)\u001b[0m\n\u001b[0;32m   1957\u001b[0m         and executing_eagerly):\n\u001b[0;32m   1958\u001b[0m       \u001b[1;31m# No tape is watching; skip to running the function.\u001b[0m\u001b[1;33m\u001b[0m\u001b[1;33m\u001b[0m\u001b[1;33m\u001b[0m\u001b[0m\n\u001b[1;32m-> 1959\u001b[1;33m       return self._build_call_outputs(self._inference_function.call(\n\u001b[0m\u001b[0;32m   1960\u001b[0m           ctx, args, cancellation_manager=cancellation_manager))\n\u001b[0;32m   1961\u001b[0m     forward_backward = self._select_forward_and_backward_functions(\n",
      "\u001b[1;32m~\\anaconda3\\lib\\site-packages\\tensorflow\\python\\eager\\function.py\u001b[0m in \u001b[0;36mcall\u001b[1;34m(self, ctx, args, cancellation_manager)\u001b[0m\n\u001b[0;32m    596\u001b[0m       \u001b[1;32mwith\u001b[0m \u001b[0m_InterpolateFunctionError\u001b[0m\u001b[1;33m(\u001b[0m\u001b[0mself\u001b[0m\u001b[1;33m)\u001b[0m\u001b[1;33m:\u001b[0m\u001b[1;33m\u001b[0m\u001b[1;33m\u001b[0m\u001b[0m\n\u001b[0;32m    597\u001b[0m         \u001b[1;32mif\u001b[0m \u001b[0mcancellation_manager\u001b[0m \u001b[1;32mis\u001b[0m \u001b[1;32mNone\u001b[0m\u001b[1;33m:\u001b[0m\u001b[1;33m\u001b[0m\u001b[1;33m\u001b[0m\u001b[0m\n\u001b[1;32m--> 598\u001b[1;33m           outputs = execute.execute(\n\u001b[0m\u001b[0;32m    599\u001b[0m               \u001b[0mstr\u001b[0m\u001b[1;33m(\u001b[0m\u001b[0mself\u001b[0m\u001b[1;33m.\u001b[0m\u001b[0msignature\u001b[0m\u001b[1;33m.\u001b[0m\u001b[0mname\u001b[0m\u001b[1;33m)\u001b[0m\u001b[1;33m,\u001b[0m\u001b[1;33m\u001b[0m\u001b[1;33m\u001b[0m\u001b[0m\n\u001b[0;32m    600\u001b[0m               \u001b[0mnum_outputs\u001b[0m\u001b[1;33m=\u001b[0m\u001b[0mself\u001b[0m\u001b[1;33m.\u001b[0m\u001b[0m_num_outputs\u001b[0m\u001b[1;33m,\u001b[0m\u001b[1;33m\u001b[0m\u001b[1;33m\u001b[0m\u001b[0m\n",
      "\u001b[1;32m~\\anaconda3\\lib\\site-packages\\tensorflow\\python\\eager\\execute.py\u001b[0m in \u001b[0;36mquick_execute\u001b[1;34m(op_name, num_outputs, inputs, attrs, ctx, name)\u001b[0m\n\u001b[0;32m     56\u001b[0m   \u001b[1;32mtry\u001b[0m\u001b[1;33m:\u001b[0m\u001b[1;33m\u001b[0m\u001b[1;33m\u001b[0m\u001b[0m\n\u001b[0;32m     57\u001b[0m     \u001b[0mctx\u001b[0m\u001b[1;33m.\u001b[0m\u001b[0mensure_initialized\u001b[0m\u001b[1;33m(\u001b[0m\u001b[1;33m)\u001b[0m\u001b[1;33m\u001b[0m\u001b[1;33m\u001b[0m\u001b[0m\n\u001b[1;32m---> 58\u001b[1;33m     tensors = pywrap_tfe.TFE_Py_Execute(ctx._handle, device_name, op_name,\n\u001b[0m\u001b[0;32m     59\u001b[0m                                         inputs, attrs, num_outputs)\n\u001b[0;32m     60\u001b[0m   \u001b[1;32mexcept\u001b[0m \u001b[0mcore\u001b[0m\u001b[1;33m.\u001b[0m\u001b[0m_NotOkStatusException\u001b[0m \u001b[1;32mas\u001b[0m \u001b[0me\u001b[0m\u001b[1;33m:\u001b[0m\u001b[1;33m\u001b[0m\u001b[1;33m\u001b[0m\u001b[0m\n",
      "\u001b[1;31mKeyboardInterrupt\u001b[0m: "
     ]
    }
   ],
   "source": [
    "model.compile(optimizer='adam',\n",
    "              loss=tf.keras.losses.SparseCategoricalCrossentropy(from_logits=True),\n",
    "              metrics=['accuracy'])\n",
    "\n",
    "model.fit(\n",
    "  skeleton_train_ds,\n",
    "  validation_data=skeleton_val_ds,\n",
    "  epochs=100\n",
    ")\n",
    "\n",
    "model.save('cnn_recognition_model.h5')"
   ]
  }
 ],
 "metadata": {
  "interpreter": {
   "hash": "c214f4d2c295345fdc57900708451324837b7865065ae46ceb283a6c9824d5d4"
  },
  "kernelspec": {
   "display_name": "Python 3.9.7 64-bit",
   "language": "python",
   "name": "python3"
  },
  "language_info": {
   "codemirror_mode": {
    "name": "ipython",
    "version": 3
   },
   "file_extension": ".py",
   "mimetype": "text/x-python",
   "name": "python",
   "nbconvert_exporter": "python",
   "pygments_lexer": "ipython3",
   "version": "3.8.8"
  },
  "orig_nbformat": 4
 },
 "nbformat": 4,
 "nbformat_minor": 2
}
