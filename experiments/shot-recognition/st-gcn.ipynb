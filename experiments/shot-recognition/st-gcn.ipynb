{
 "cells": [
  {
   "cell_type": "markdown",
   "metadata": {},
   "source": [
    "# Spatial-Temporal Graph Convolutional Networks - Experiments \n",
    "\n",
    "Paper: Learning Three Dimensional Tennis Shots Using Graph Convolutional Networks\n",
    "Technique tested: Spatial-Temporal Graph Convolutional (/Neural) Networks (ST-GCN)\n",
    "\n",
    "## Paper summary\n",
    "The paper mentions recording both the player and the racket to identify shots. It tested putting data into the ST-GCN with and without fuzzying of data, where fuzzying returned more accurate results.\n",
    "\n",
    "### Important pages:\n",
    "- Description of Input: [2.2. Spatial Temporal Graph]\n",
    "- Description of Methodology [2.3. Recognition of Tennis Shots (page 5/12)]"
   ]
  },
  {
   "cell_type": "markdown",
   "metadata": {},
   "source": [
    "## Input\n",
    "Graph G = (V, E)  \n",
    "- N -> node for each joint and their changes in their position over time.  \n",
    "- V -> node set, all joints in a skeleton  \n",
    "- E -> set of edges"
   ]
  },
  {
   "cell_type": "markdown",
   "metadata": {},
   "source": [
    "## Data structures\n",
    "Data structure for containing data information"
   ]
  },
  {
   "cell_type": "code",
   "execution_count": 84,
   "metadata": {},
   "outputs": [],
   "source": [
    "class Joint:\n",
    "    \n",
    "    class Cartesian:\n",
    "\n",
    "        def __init__(self, x:int, y:int, z:int):\n",
    "            self.x = x\n",
    "            self.y = y\n",
    "            self.z = z\n",
    "\n",
    "    def __init__(self, id:str) -> None:\n",
    "        self.id = id #  name of the joint\n",
    "        self.coordinates = [] #  list of coordinate sets\n",
    "    \n",
    "    def add(self, x:int, y:int, z:int) -> None:\n",
    "        self.coordinates.append(self.Cartesian(x,y,z))\n",
    "\n",
    "\n",
    "class Edge:\n",
    "\n",
    "    def __init__(self, joint1:Joint, joint2:Joint) -> None:\n",
    "        self.joint1 = joint1\n",
    "        self.joint2 = joint2\n",
    "\n",
    "\n",
    "class Joint_set:\n",
    "\n",
    "    def __init__(self) -> None:\n",
    "        self.set = {}\n",
    "\n",
    "    def add(self, joint:Joint) -> None:\n",
    "        self.set[joint.id] = joint\n",
    "\n",
    "\n",
    "class Edge_set:\n",
    "    \n",
    "    def __init__(self, joint_set:Joint_set) -> None:\n",
    "        self.joint_set = joint_set\n",
    "        self.edges = []\n",
    "        self.taken_connections = {} # only to avoid long search times\n",
    "\n",
    "\n",
    "    def add(self, joint1_name:str, joint2_name:str) -> None:\n",
    "        for edge in self.edges:\n",
    "            if edge.joint1.id == joint2_name and edge.joint2.id == joint1_name: # avoid duplication\n",
    "                return\n",
    "        # Change to a more efficient search if necessary. Rn not needed because the list of edges is small (>~50)\n",
    "        self.edges.append(Edge(self.joint_set.set[joint1_name], self.joint_set.set[joint2_name]))\n",
    "\n"
   ]
  },
  {
   "cell_type": "markdown",
   "metadata": {},
   "source": [
    "## Intialisation\n",
    "\n",
    "To be edited depending on the data given, i.e. the joints and edges involved."
   ]
  },
  {
   "cell_type": "code",
   "execution_count": 85,
   "metadata": {},
   "outputs": [],
   "source": [
    "# Initialisation methods\n",
    "\n",
    "def init_set(joint_name_set:list) -> Joint_set:\n",
    "    joints = Joint_set()\n",
    "    for name in joint_name_set:\n",
    "        joints.add(Joint(name))\n",
    "    return joints\n",
    "\n",
    "\n",
    "def init_edges(joint_set:Joint_set, connections:dict) -> Edge_set:\n",
    "    edges = Edge_set(joint_set)\n",
    "    for joint in joint_set.set:\n",
    "        joint_id = joint\n",
    "        for connection_id in connections[joint_id]: # nested while loop acceptable as maximum 3 iterations (as seen in the dataset)\n",
    "            edges.add(joint_id, connection_id)\n",
    "    return edges\n",
    "\n",
    "# should draw the edges and joints created just to make sure everything's been done correctly"
   ]
  },
  {
   "cell_type": "code",
   "execution_count": 86,
   "metadata": {},
   "outputs": [
    {
     "data": {
      "image/png": "[encoded data removed]",
      "text/plain": [
       "<Figure size 432x288 with 1 Axes>"
      ]
     },
     "metadata": {
      "needs_background": "light"
     },
     "output_type": "display_data"
    }
   ],
   "source": [
    "# Testing initlialisation & data structure integrity\n",
    "\n",
    "import matplotlib.pyplot as plt\n",
    "\n",
    "connection_info = {\n",
    "    \"HEAD\" : [\"NECK\"],\n",
    "    \"LEFT_ELBOW\" : [\"LEFT_HAND\", \"LEFT_SHOULDER\"], \n",
    "    \"LEFT_FOOT\" : [\"LEFT_KNEE\"],\n",
    "    \"LEFT_HAND\" :  [\"LEFT_ELBOW\"],\n",
    "    \"LEFT_HIP\" : [\"TORSO\", \"LEFT_KNEE\"],\n",
    "    \"LEFT_KNEE\" : [\"LEFT_HIP\", \"LEFT_FOOT\"],\n",
    "    \"LEFT_SHOULDER\" : [\"NECK\", \"LEFT_ELBOW\"],\n",
    "    \"NECK\" : [\"HEAD\", \"LEFT_SHOULDER\", \"RIGHT_SHOULDER\"],\n",
    "    \"RIGHT_ELBOW\" : [\"RIGHT_HAND\", \"RIGHT_SHOULDER\"],\n",
    "    \"RIGHT_FOOT\" : [\"RIGHT_KNEE\"],\n",
    "    \"RIGHT_HAND\" : [\"RIGHT_ELBOW\"],\n",
    "    \"RIGHT_HIP\" : [\"TORSO\", \"RIGHT_KNEE\"],\n",
    "    \"RIGHT_KNEE\" : [\"RIGHT_HIP\", \"RIGHT_FOOT\"],\n",
    "    \"RIGHT_SHOULDER\" : [\"NECK\", \"RIGHT_ELBOW\"],\n",
    "    \"TORSO\" : [\"NECK\", \"LEFT_HIP\", \"RIGHT_HIP\"]\n",
    "}\n",
    "\n",
    "joint_names = list(connection_info.keys())\n",
    "joints = init_set(joint_names)\n",
    "edges = init_edges(joints, connection_info)\n",
    "\n",
    "joints.set[\"HEAD\"].add(5,5,0)\n",
    "joints.set[\"NECK\"].add(5,4,0)\n",
    "joints.set[\"TORSO\"].add(5,3,0)\n",
    "joints.set[\"LEFT_HIP\"].add(4,2,0)\n",
    "joints.set[\"LEFT_KNEE\"].add(4,1,0)\n",
    "joints.set[\"LEFT_FOOT\"].add(4,0,0)\n",
    "joints.set[\"RIGHT_HIP\"].add(6,2,0)\n",
    "joints.set[\"RIGHT_KNEE\"].add(6,1,0)\n",
    "joints.set[\"RIGHT_FOOT\"].add(6,0,0)\n",
    "joints.set[\"LEFT_SHOULDER\"].add(4,4,0)\n",
    "joints.set[\"LEFT_ELBOW\"].add(3,3,0)\n",
    "joints.set[\"LEFT_HAND\"].add(3,2,0)\n",
    "joints.set[\"RIGHT_SHOULDER\"].add(6,4,0)\n",
    "joints.set[\"RIGHT_ELBOW\"].add(7,3,0)\n",
    "joints.set[\"RIGHT_HAND\"].add(7,2,0)\n",
    "\n",
    "plt.xlim(2, 8)\n",
    "plt.ylim(-1, 6)\n",
    "\n",
    "for edge in edges.edges:\n",
    "    x1 = edge.joint1.coordinates[0].x\n",
    "    y1 = edge.joint1.coordinates[0].y\n",
    "    x2 = edge.joint2.coordinates[0].x\n",
    "    y2 = edge.joint2.coordinates[0].y\n",
    "    plt.plot([x1,x2], [y1,y2], marker='o')\n",
    "\n",
    "plt.show()\n"
   ]
  }
 ],
 "metadata": {
  "interpreter": {
   "hash": "aee8b7b246df8f9039afb4144a1f6fd8d2ca17a180786b69acc140d282b71a49"
  },
  "kernelspec": {
   "display_name": "Python 3.9.6 64-bit",
   "language": "python",
   "name": "python3"
  },
  "language_info": {
   "codemirror_mode": {
    "name": "ipython",
    "version": 3
   },
   "file_extension": ".py",
   "mimetype": "text/x-python",
   "name": "python",
   "nbconvert_exporter": "python",
   "pygments_lexer": "ipython3",
   "version": "3.9.6"
  },
  "orig_nbformat": 4
 },
 "nbformat": 4,
 "nbformat_minor": 2
}
