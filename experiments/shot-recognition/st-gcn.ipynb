{
 "cells": [
  {
   "cell_type": "markdown",
   "metadata": {},
   "source": [
    "# 3D Tennis Shot Recognition through Spatial-Temporal Graph Convolutional Networks\n",
    "\n",
    "Using the method described in [Learning Three Dimensional Tennis Shots UsingGraph Convolutional Networks](https://www.mdpi.com/1424-8220/20/21/6094) by M. Skublewska-Paszkowska, P. Powroznikand, E. Lukasi (2020).\n",
    "\n",
    "The paper mentions recording both the player and the racket to identify shots. It tested putting data into the ST-GCN with and without fuzzying of data, where fuzzying returned more accurate results.\n",
    "The input used is from the 3D skeleton videos from the [THETIS](http://thetis.image.ece.ntua.gr)(THree dimEnsional TennIs Shots human action dataset).\n",
    "\n",
    "The ST-GCN is implemented with the [Spektral](https://graphneural.network/getting-started/) library."
   ]
  },
  {
   "cell_type": "markdown",
   "metadata": {},
   "source": [
    "Loading the dataset into graphs."
   ]
  },
  {
   "cell_type": "code",
   "execution_count": 8,
   "metadata": {},
   "outputs": [
    {
     "data": {
      "text/plain": [
       "TestDatset(n_graphs=5)"
      ]
     },
     "execution_count": 8,
     "metadata": {},
     "output_type": "execute_result"
    }
   ],
   "source": [
    "from spektral import data as spkdata\n",
    "from os import path\n",
    "import numpy as np\n",
    "\n",
    "test_dir = '/Users/morganeohlig/GitHub/3d-tennis-analysis/experiments/data/test'\n",
    "\n",
    "\n",
    "class TestDatset(spkdata.Dataset):\n",
    "\n",
    "    def __init__(self, nodes, feats, **kwargs):\n",
    "        self.nodes = nodes # this is just created input?\n",
    "        self.feats = feats # this is also just created input?\n",
    "\n",
    "        super().__init__(**kwargs)\n",
    "\n",
    "    def download(self):\n",
    "\n",
    "        for i in range(5):\n",
    "            node_features = np.random.rand(self.nodes, self.feats) # makes a regular matrix\n",
    "            adj = np.random.randint(0,2, (self.nodes, self.nodes)) # makes an adjacency matrix\n",
    "            labels = np.random.randint(0,2) # just a single number\n",
    "            \n",
    "            filename = path.join(test_dir, f'graph_{i}')\n",
    "            np.savez(filename, x=node_features, a=adj, y=labels)\n",
    "\n",
    "    def read(self):\n",
    "        # We must return a list of Graph objects\n",
    "        output = []\n",
    "\n",
    "        for i in range(5):\n",
    "            data = np.load(path.join(test_dir, f'graph_{i}.npz'))\n",
    "            output.append(\n",
    "                spkdata.Graph(x=data['x'], a=data['a'], y=data['y'])\n",
    "            )\n",
    "\n",
    "        return output\n",
    "\n",
    "dataset = TestDatset(3,2)\n",
    "dataset"
   ]
  }
 ],
 "metadata": {
  "interpreter": {
   "hash": "aee8b7b246df8f9039afb4144a1f6fd8d2ca17a180786b69acc140d282b71a49"
  },
  "kernelspec": {
   "display_name": "Python 3.9.6 64-bit",
   "language": "python",
   "name": "python3"
  },
  "language_info": {
   "codemirror_mode": {
    "name": "ipython",
    "version": 3
   },
   "file_extension": ".py",
   "mimetype": "text/x-python",
   "name": "python",
   "nbconvert_exporter": "python",
   "pygments_lexer": "ipython3",
   "version": "3.9.9"
  },
  "orig_nbformat": 4
 },
 "nbformat": 4,
 "nbformat_minor": 2
}
