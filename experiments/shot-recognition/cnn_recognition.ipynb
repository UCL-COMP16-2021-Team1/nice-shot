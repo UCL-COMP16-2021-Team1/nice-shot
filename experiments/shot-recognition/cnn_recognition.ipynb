{
 "cells": [
  {
   "cell_type": "markdown",
   "metadata": {},
   "source": [
    "### CNN-based 3D Skeleton Tennis Shot Recognition\n",
    "\n",
    "Based on method from paper ['Skeleton-based Action Recognition with Convolutional Neural Networks'](https://arxiv.org/abs/1704.07595) by Li et al. (2017).\n",
    "\n",
    "We use the 3D skeletal animation data from the ['THETIS'](http://thetis.image.ece.ntua.gr/) dataset for training. Each animation is represented as a `T x N` 3-channel image where `T` is the number of frames of the animation, `N` is the number of skeletal joints, and the 3 colour channels represent the `x, y, z` coordinates of the joints."
   ]
  },
  {
   "cell_type": "markdown",
   "metadata": {},
   "source": [
    "Load the skeleton images training data."
   ]
  },
  {
   "cell_type": "code",
   "execution_count": 4,
   "metadata": {},
   "outputs": [
    {
     "name": "stdout",
     "output_type": "stream",
     "text": [
      "Found 1974 files belonging to 4 classes.\n",
      "Using 1580 files for training.\n",
      "Found 1974 files belonging to 4 classes.\n",
      "Using 394 files for validation.\n",
      "['backhand', 'forehand', 'service', 'smash']\n"
     ]
    }
   ],
   "source": [
    "import tensorflow as tf\n",
    "\n",
    "skeleton_dir = \"data/skeleton_images\"\n",
    "\n",
    "img_height = 32\n",
    "img_width = 32\n",
    "batch_size = 32\n",
    "\n",
    "train_ds = tf.keras.utils.image_dataset_from_directory(\n",
    "  skeleton_dir,\n",
    "  validation_split=0.2,\n",
    "  subset=\"training\",\n",
    "  seed=123,\n",
    "  image_size=(img_height, img_width),\n",
    "  batch_size=batch_size\n",
    ")\n",
    "\n",
    "val_ds = tf.keras.utils.image_dataset_from_directory(\n",
    "  skeleton_dir,\n",
    "  validation_split=0.2,\n",
    "  subset=\"validation\",\n",
    "  seed=123,\n",
    "  image_size=(img_height, img_width),\n",
    "  batch_size=batch_size\n",
    ")\n",
    "\n",
    "class_names = train_ds.class_names\n",
    "num_classes = len(class_names)\n",
    "print(class_names)"
   ]
  },
  {
   "cell_type": "markdown",
   "metadata": {},
   "source": [
    "Create the CNN model."
   ]
  },
  {
   "cell_type": "code",
   "execution_count": 5,
   "metadata": {},
   "outputs": [],
   "source": [
    "from tensorflow.keras import layers\n",
    "from tensorflow.keras.models import Sequential\n",
    "\n",
    "model = Sequential([\n",
    "  layers.Rescaling(1./127.5, offset=-1, input_shape=(img_height, img_width, 3)),\n",
    "  layers.Conv2D(16, 3, padding='same', activation='relu'),\n",
    "  layers.MaxPooling2D(),\n",
    "  layers.Conv2D(32, 3, padding='same', activation='relu'),\n",
    "  layers.MaxPooling2D(),\n",
    "  layers.Conv2D(64, 3, padding='same', activation='relu'),\n",
    "  layers.MaxPooling2D(),\n",
    "  layers.Flatten(),\n",
    "  layers.Dense(128, activation='relu'),\n",
    "  layers.Dense(num_classes)\n",
    "])"
   ]
  },
  {
   "cell_type": "markdown",
   "metadata": {},
   "source": [
    "Compile and train the model."
   ]
  },
  {
   "cell_type": "code",
   "execution_count": 6,
   "metadata": {},
   "outputs": [
    {
     "name": "stdout",
     "output_type": "stream",
     "text": [
      "Epoch 1/50\n",
      "50/50 [==============================] - 1s 16ms/step - loss: 0.9298 - accuracy: 0.6513 - val_loss: 0.7315 - val_accuracy: 0.7030\n",
      "Epoch 2/50\n",
      "50/50 [==============================] - 1s 15ms/step - loss: 0.5556 - accuracy: 0.7994 - val_loss: 0.4609 - val_accuracy: 0.8198\n",
      "Epoch 3/50\n",
      "50/50 [==============================] - 1s 16ms/step - loss: 0.4139 - accuracy: 0.8392 - val_loss: 0.4124 - val_accuracy: 0.8350\n",
      "Epoch 4/50\n",
      "50/50 [==============================] - 1s 16ms/step - loss: 0.3315 - accuracy: 0.8646 - val_loss: 0.3355 - val_accuracy: 0.8680\n",
      "Epoch 5/50\n",
      "50/50 [==============================] - 1s 16ms/step - loss: 0.2731 - accuracy: 0.8867 - val_loss: 0.3264 - val_accuracy: 0.8731\n",
      "Epoch 6/50\n",
      "50/50 [==============================] - 1s 16ms/step - loss: 0.2321 - accuracy: 0.9019 - val_loss: 0.2783 - val_accuracy: 0.8883\n",
      "Epoch 7/50\n",
      "50/50 [==============================] - 1s 15ms/step - loss: 0.2272 - accuracy: 0.9051 - val_loss: 0.2763 - val_accuracy: 0.8934\n",
      "Epoch 8/50\n",
      "50/50 [==============================] - 1s 15ms/step - loss: 0.1820 - accuracy: 0.9285 - val_loss: 0.2399 - val_accuracy: 0.9162\n",
      "Epoch 9/50\n",
      "50/50 [==============================] - 1s 15ms/step - loss: 0.1667 - accuracy: 0.9291 - val_loss: 0.2323 - val_accuracy: 0.9264\n",
      "Epoch 10/50\n",
      "50/50 [==============================] - 1s 16ms/step - loss: 0.1821 - accuracy: 0.9291 - val_loss: 0.2663 - val_accuracy: 0.8909\n",
      "Epoch 11/50\n",
      "50/50 [==============================] - 1s 16ms/step - loss: 0.1633 - accuracy: 0.9354 - val_loss: 0.2363 - val_accuracy: 0.9086\n",
      "Epoch 12/50\n",
      "50/50 [==============================] - 1s 17ms/step - loss: 0.1336 - accuracy: 0.9449 - val_loss: 0.2669 - val_accuracy: 0.9061\n",
      "Epoch 13/50\n",
      "50/50 [==============================] - 1s 16ms/step - loss: 0.1064 - accuracy: 0.9576 - val_loss: 0.1909 - val_accuracy: 0.9365\n",
      "Epoch 14/50\n",
      "50/50 [==============================] - 1s 16ms/step - loss: 0.1078 - accuracy: 0.9608 - val_loss: 0.2732 - val_accuracy: 0.9010\n",
      "Epoch 15/50\n",
      "50/50 [==============================] - 1s 15ms/step - loss: 0.0815 - accuracy: 0.9703 - val_loss: 0.1778 - val_accuracy: 0.9340\n",
      "Epoch 16/50\n",
      "50/50 [==============================] - 1s 16ms/step - loss: 0.0865 - accuracy: 0.9658 - val_loss: 0.2020 - val_accuracy: 0.9416\n",
      "Epoch 17/50\n",
      "50/50 [==============================] - 1s 16ms/step - loss: 0.0667 - accuracy: 0.9747 - val_loss: 0.1836 - val_accuracy: 0.9518\n",
      "Epoch 18/50\n",
      "50/50 [==============================] - 1s 16ms/step - loss: 0.0676 - accuracy: 0.9753 - val_loss: 0.2404 - val_accuracy: 0.9315\n",
      "Epoch 19/50\n",
      "50/50 [==============================] - 1s 15ms/step - loss: 0.0473 - accuracy: 0.9823 - val_loss: 0.2050 - val_accuracy: 0.9340\n",
      "Epoch 20/50\n",
      "50/50 [==============================] - 1s 15ms/step - loss: 0.0511 - accuracy: 0.9810 - val_loss: 0.2044 - val_accuracy: 0.9467\n",
      "Epoch 21/50\n",
      "50/50 [==============================] - 1s 15ms/step - loss: 0.0555 - accuracy: 0.9810 - val_loss: 0.1684 - val_accuracy: 0.9416\n",
      "Epoch 22/50\n",
      "50/50 [==============================] - 1s 16ms/step - loss: 0.0427 - accuracy: 0.9892 - val_loss: 0.1880 - val_accuracy: 0.9518\n",
      "Epoch 23/50\n",
      "50/50 [==============================] - 1s 16ms/step - loss: 0.0288 - accuracy: 0.9911 - val_loss: 0.1886 - val_accuracy: 0.9467\n",
      "Epoch 24/50\n",
      "50/50 [==============================] - 1s 15ms/step - loss: 0.0294 - accuracy: 0.9886 - val_loss: 0.2053 - val_accuracy: 0.9416\n",
      "Epoch 25/50\n",
      "50/50 [==============================] - 1s 16ms/step - loss: 0.0212 - accuracy: 0.9930 - val_loss: 0.2230 - val_accuracy: 0.9416\n",
      "Epoch 26/50\n",
      "50/50 [==============================] - 1s 16ms/step - loss: 0.0208 - accuracy: 0.9937 - val_loss: 0.2009 - val_accuracy: 0.9492\n",
      "Epoch 27/50\n",
      "50/50 [==============================] - 1s 16ms/step - loss: 0.0528 - accuracy: 0.9804 - val_loss: 0.2412 - val_accuracy: 0.9315\n",
      "Epoch 28/50\n",
      "50/50 [==============================] - 1s 16ms/step - loss: 0.0261 - accuracy: 0.9924 - val_loss: 0.2013 - val_accuracy: 0.9492\n",
      "Epoch 29/50\n",
      "50/50 [==============================] - 1s 16ms/step - loss: 0.0110 - accuracy: 0.9981 - val_loss: 0.2113 - val_accuracy: 0.9518\n",
      "Epoch 30/50\n",
      "50/50 [==============================] - 1s 15ms/step - loss: 0.0061 - accuracy: 0.9994 - val_loss: 0.2214 - val_accuracy: 0.9518\n",
      "Epoch 31/50\n",
      "50/50 [==============================] - 1s 15ms/step - loss: 0.0050 - accuracy: 0.9994 - val_loss: 0.2134 - val_accuracy: 0.9543\n",
      "Epoch 32/50\n",
      "50/50 [==============================] - 1s 16ms/step - loss: 0.0032 - accuracy: 1.0000 - val_loss: 0.2166 - val_accuracy: 0.9569\n",
      "Epoch 33/50\n",
      "50/50 [==============================] - 1s 16ms/step - loss: 0.0025 - accuracy: 1.0000 - val_loss: 0.2245 - val_accuracy: 0.9569\n",
      "Epoch 34/50\n",
      "50/50 [==============================] - 1s 15ms/step - loss: 0.0021 - accuracy: 1.0000 - val_loss: 0.2337 - val_accuracy: 0.9569\n",
      "Epoch 35/50\n",
      "50/50 [==============================] - 1s 16ms/step - loss: 0.0020 - accuracy: 1.0000 - val_loss: 0.2297 - val_accuracy: 0.9543\n",
      "Epoch 36/50\n",
      "50/50 [==============================] - 1s 16ms/step - loss: 0.0014 - accuracy: 1.0000 - val_loss: 0.2360 - val_accuracy: 0.9569\n",
      "Epoch 37/50\n",
      "50/50 [==============================] - 1s 16ms/step - loss: 0.0011 - accuracy: 1.0000 - val_loss: 0.2419 - val_accuracy: 0.9543\n",
      "Epoch 38/50\n",
      "50/50 [==============================] - 1s 16ms/step - loss: 0.0010 - accuracy: 1.0000 - val_loss: 0.2416 - val_accuracy: 0.9543\n",
      "Epoch 39/50\n",
      "50/50 [==============================] - 1s 16ms/step - loss: 8.7448e-04 - accuracy: 1.0000 - val_loss: 0.2497 - val_accuracy: 0.9569\n",
      "Epoch 40/50\n",
      "50/50 [==============================] - 1s 16ms/step - loss: 8.1034e-04 - accuracy: 1.0000 - val_loss: 0.2504 - val_accuracy: 0.9594\n",
      "Epoch 41/50\n",
      "50/50 [==============================] - 1s 16ms/step - loss: 7.1941e-04 - accuracy: 1.0000 - val_loss: 0.2543 - val_accuracy: 0.9569\n",
      "Epoch 42/50\n",
      "50/50 [==============================] - 1s 15ms/step - loss: 7.1079e-04 - accuracy: 1.0000 - val_loss: 0.2566 - val_accuracy: 0.9543\n",
      "Epoch 43/50\n",
      "50/50 [==============================] - 1s 16ms/step - loss: 6.4457e-04 - accuracy: 1.0000 - val_loss: 0.2610 - val_accuracy: 0.9543\n",
      "Epoch 44/50\n",
      "50/50 [==============================] - 1s 16ms/step - loss: 5.9411e-04 - accuracy: 1.0000 - val_loss: 0.2613 - val_accuracy: 0.9543\n",
      "Epoch 45/50\n",
      "50/50 [==============================] - 1s 16ms/step - loss: 6.1233e-04 - accuracy: 1.0000 - val_loss: 0.2615 - val_accuracy: 0.9569\n",
      "Epoch 46/50\n",
      "50/50 [==============================] - 1s 16ms/step - loss: 5.1745e-04 - accuracy: 1.0000 - val_loss: 0.2680 - val_accuracy: 0.9543\n",
      "Epoch 47/50\n",
      "50/50 [==============================] - 1s 16ms/step - loss: 4.8551e-04 - accuracy: 1.0000 - val_loss: 0.2682 - val_accuracy: 0.9569\n",
      "Epoch 48/50\n",
      "50/50 [==============================] - 1s 15ms/step - loss: 4.5438e-04 - accuracy: 1.0000 - val_loss: 0.2742 - val_accuracy: 0.9569\n",
      "Epoch 49/50\n",
      "50/50 [==============================] - 1s 16ms/step - loss: 4.1671e-04 - accuracy: 1.0000 - val_loss: 0.2745 - val_accuracy: 0.9569\n",
      "Epoch 50/50\n",
      "50/50 [==============================] - 1s 16ms/step - loss: 4.1558e-04 - accuracy: 1.0000 - val_loss: 0.2760 - val_accuracy: 0.9594\n"
     ]
    }
   ],
   "source": [
    "model.compile(optimizer='adam',\n",
    "              loss=tf.keras.losses.SparseCategoricalCrossentropy(from_logits=True),\n",
    "              metrics=['accuracy'])\n",
    "\n",
    "model.fit(\n",
    "  train_ds,\n",
    "  validation_data=val_ds,\n",
    "  epochs=50\n",
    ")\n",
    "\n",
    "model.save('cnn_recognition_model.h5')"
   ]
  }
 ],
 "metadata": {
  "interpreter": {
   "hash": "c214f4d2c295345fdc57900708451324837b7865065ae46ceb283a6c9824d5d4"
  },
  "kernelspec": {
   "display_name": "Python 3",
   "language": "python",
   "name": "python3"
  },
  "language_info": {
   "codemirror_mode": {
    "name": "ipython",
    "version": 3
   },
   "file_extension": ".py",
   "mimetype": "text/x-python",
   "name": "python",
   "nbconvert_exporter": "python",
   "pygments_lexer": "ipython3",
   "version": "3.8.8"
  },
  "orig_nbformat": 4
 },
 "nbformat": 4,
 "nbformat_minor": 2
}
