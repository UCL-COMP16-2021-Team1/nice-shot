{
 "cells": [
  {
   "cell_type": "markdown",
   "metadata": {},
   "source": [
    "# Spatial-Temporal Graph Convolutional Networks - Experiments \n",
    "\n",
    "Paper: Learning Three Dimensional Tennis Shots Using Graph Convolutional Networks\n",
    "Technique tested: Spatial-Temporal Graph Convolutional (/Neural) Networks (ST-GCN)\n",
    "\n",
    "## Paper summary\n",
    "The paper mentions recording both the player and the racket to identify shots. It tested putting data into the ST-GCN with and without fuzzying of data, where fuzzying returned more accurate results.\n",
    "\n",
    "### Important pages:\n",
    "- Description of Input: [2.2. Spatial Temporal Graph]\n",
    "- Description of Methodology [2.3. Recognition of Tennis Shots (page 5/12)]"
   ]
  },
  {
   "cell_type": "markdown",
   "metadata": {},
   "source": [
    "## Input\n",
    "Graph G = (V, E)  \n",
    "- N -> node for each joint and their changes in their position over time.  \n",
    "- V -> node set, all joints in a skeleton  \n",
    "- E -> set of edges"
   ]
  },
  {
   "cell_type": "code",
   "execution_count": null,
   "metadata": {},
   "outputs": [],
   "source": [
    "# Data structure for containing data information\n",
    "\n",
    "class Joint:\n",
    "\n",
    "    def __init__(self, id:str):\n",
    "        self.id = id #  name of the joint\n",
    "        self.coordinates = [] #  list of coordinate sets\n",
    "    \n",
    "    def add(self, x:int, y:int, z:int):\n",
    "        self.coordinates.add((x,y,z))\n",
    "\n",
    "class Edge:\n",
    "\n",
    "    def __init__(self, joint1:Joint, joint2:Joint):\n",
    "        self.joints = (joint1, joint2)\n",
    "\n",
    "class Joint_set:\n",
    "\n",
    "    def __init__(self):\n",
    "        self.set = {}\n",
    "\n",
    "    def add(self, id:str, joint:Joint):\n",
    "        self.set[id] = joint"
   ]
  }
 ],
 "metadata": {
  "interpreter": {
   "hash": "aee8b7b246df8f9039afb4144a1f6fd8d2ca17a180786b69acc140d282b71a49"
  },
  "kernelspec": {
   "display_name": "Python 3.9.6 64-bit",
   "language": "python",
   "name": "python3"
  },
  "language_info": {
   "name": "python",
   "version": "3.9.6"
  },
  "orig_nbformat": 4
 },
 "nbformat": 4,
 "nbformat_minor": 2
}
